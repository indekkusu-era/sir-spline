{
 "cells": [
  {
   "cell_type": "code",
   "execution_count": 1,
   "metadata": {},
   "outputs": [],
   "source": [
    "class SystemDiffEQ():\n",
    "    def __init__(self, f_primes: dict, initial_condition: dict):\n",
    "        self.f_primes = f_primes.copy()\n",
    "        self.initial_condition = None\n",
    "        self.f_values = {}\n",
    "        self.initialize(initial_condition)\n",
    "    \n",
    "    def initialize(self, initial_condition: dict):\n",
    "        self.initial_condition = initial_condition.copy()\n",
    "        self.f_values[0] = initial_condition.copy()\n",
    "    \n",
    "    def generate_value_one_step(self, f_old, dx):\n",
    "        f_next = {}\n",
    "        for k in self.f_primes.keys():\n",
    "            f_next[k] = f_old[k] + self.f_primes[k](f_old) * dx\n",
    "        return f_next\n",
    "\n",
    "    def generate_value(self, endpoint, starting_point=0, dx=0.01):\n",
    "        i = starting_point\n",
    "        while i < endpoint:\n",
    "            f_next = self.generate_value_one_step(self.f_values[i], dx)\n",
    "            self.f_values[i + dx] = f_next.copy()\n",
    "            i += dx\n",
    "        \n",
    "    def get(self, f, value):\n",
    "        return self.f_values[value][f]\n",
    "\n",
    "    def get_ts(self):\n",
    "        return list(self.f_values.keys())"
   ]
  },
  {
   "cell_type": "code",
   "execution_count": 2,
   "metadata": {},
   "outputs": [],
   "source": [
    "import numpy as np\n",
    "\n",
    "class Polynomial:\n",
    "    def __init__(self, coef: list):\n",
    "        self._coef = coef\n",
    "\n",
    "    @property\n",
    "    def degree(self):\n",
    "        return len(self._coef) - 1\n",
    "\n",
    "    def coef(self, deg):\n",
    "        if deg > self.degree:\n",
    "            return 0\n",
    "        return self._coef[self.degree - deg]\n",
    "\n",
    "    def diff(self):\n",
    "        diff_coef = []\n",
    "        for deg in range(1, self.degree + 1):\n",
    "            deg_coef = self.coef(deg)\n",
    "            diff_coef = [deg_coef * deg] + diff_coef\n",
    "        return Polynomial(diff_coef)\n",
    "\n",
    "    def antidiff(self, x: float, y: float):\n",
    "        int_coef = []\n",
    "        c = y\n",
    "        for deg in range(self.degree + 1):\n",
    "            deg_coef = self.coef(deg)\n",
    "            coef = deg_coef / (deg + 1)\n",
    "            int_coef = [coef] + int_coef\n",
    "            c -= coef * (x ** (deg + 1))\n",
    "        int_coef.append(c)\n",
    "        return Polynomial(int_coef)\n",
    "    \n",
    "    def integrate(self, x_lower: float, x_upper: float):\n",
    "        intf = self.antidiff(0,0)\n",
    "        return intf(x_upper) - intf(x_lower)\n",
    "\n",
    "    def __repr__(self):\n",
    "        func_str = []\n",
    "        for deg in reversed(range(self.degree + 1)):\n",
    "            if self.coef(deg) == 0:\n",
    "                continue\n",
    "            if deg == 0:\n",
    "                func_str.append(f\"{self.coef(deg)}\")\n",
    "                continue\n",
    "            func_str.append(f\"{self.coef(deg)}x^{deg}\")\n",
    "        return f\"Polynomial({'+'.join(func_str)})\"\n",
    "\n",
    "    def __call__(self, x):\n",
    "        px = 0\n",
    "        for deg in range(self.degree + 1):\n",
    "            px += self.coef(deg) * (x ** deg)\n",
    "        return px\n",
    "\n",
    "    def __add__(self, other):\n",
    "        new_coef = [0] * max(self.degree + 1, other.degree + 1)\n",
    "        for deg in range(len(new_coef)):\n",
    "            new_coef[- deg - 1] = self.coef(deg) + other.coef(deg)\n",
    "        return Polynomial(new_coef)\n",
    "\n",
    "    def __sub__(self, other):\n",
    "        new_coef = [0] * max(self.degree + 1, other.degree + 1)\n",
    "        for deg in range(len(new_coef)):\n",
    "            new_coef[-deg - 1] = self.coef(deg) - other.coef(deg)\n",
    "        return Polynomial(new_coef)\n",
    "\n",
    "    def __mul__(self, other):\n",
    "        new_coef = [0] * (self.degree + other.degree + 1)\n",
    "        for deg1 in range(self.degree + 1):\n",
    "            for deg2 in range(other.degree + 1):\n",
    "                new_coef[-deg1 - deg2 - 1] += self.coef(deg1) * other.coef(deg2)\n",
    "        return Polynomial(new_coef)\n",
    "\n",
    "    def __pow__(self, n):\n",
    "        if n == 0:\n",
    "            return Polynomial([1])\n",
    "        if n == 1:\n",
    "            return self\n",
    "        result = self\n",
    "        for i in range(n - 1):\n",
    "            result *= self\n",
    "        return result\n",
    "\n",
    "class CubicSpline:\n",
    "    def __init__(self, xy):\n",
    "        self._xy = sorted(xy, key=lambda x: x[0])\n",
    "\n",
    "    def solve_second_diff(self):\n",
    "        second_diff = [0]\n",
    "        mat = []\n",
    "        for i in range(1, len(self._xy) - 1):\n",
    "            x1, y1 = self._xy[i-1]\n",
    "            xmid, ymid = self._xy[i]\n",
    "            x2, y2 = self._xy[i+1]\n",
    "            d1 = (ymid - y1) / (xmid - x1)\n",
    "            d2 = (y2 - ymid) / (x2 - xmid)\n",
    "            second_diff.append(d2 - d1)\n",
    "        second_diff.append(0)\n",
    "        for i in range(len(self._xy)):\n",
    "            mat.append([0 for _ in range(len(self._xy))])\n",
    "            if i in [0, len(self._xy) - 1]:\n",
    "                mat[-1][i] = 1\n",
    "                continue\n",
    "            x1, y1 = self._xy[i-1]\n",
    "            xmid, ymid = self._xy[i]\n",
    "            x2, y2 = self._xy[i+1]\n",
    "            mat[-1][i-1] = (xmid - x1) / 6\n",
    "            mat[-1][i] = (x2 - x1) / 3\n",
    "            mat[-1][i+1] = (x2 - xmid) / 6\n",
    "        return np.linalg.solve(mat, second_diff)\n",
    "\n",
    "    def fit(self):\n",
    "        self.poly = {}\n",
    "        M = self.solve_second_diff()\n",
    "        for i in range(len(self._xy) - 1):\n",
    "            x0, y0 = self._xy[i]\n",
    "            x1, y1 = self._xy[i+1]\n",
    "            dds = Polynomial([(M[i+1] - M[i]) / (x1 - x0), M[i] - (M[i+1] - M[i]) / (x1 - x0) * x0])\n",
    "            s0 = dds.antidiff(0,0).antidiff(0,0)\n",
    "            c, d = np.linalg.solve([[x0, 1], [x1, 1]], [y0 - s0(x0), y1 - s0(x1)])\n",
    "            s0._coef[-2] = c\n",
    "            s0._coef[-1] = d\n",
    "            self.poly[(x0, x1)] = s0\n",
    "        return self.poly\n",
    "    \n",
    "    def _predict(self, x):\n",
    "        for (x0, x1), polynom in self.poly.items():\n",
    "            if x0 <= x and x <= x1:\n",
    "                return polynom(x)\n",
    "\n",
    "    def predict(self, x):\n",
    "        if self._xy[0][0] <= x <= self._xy[-1][0]:\n",
    "            return self._predict(x)\n",
    "        raise ValueError(f\"{x} is not feasible for the spline, it needs to be between {self._xy[0][0]} and {self._xy[-1][0]}\")"
   ]
  },
  {
   "cell_type": "code",
   "execution_count": 3,
   "metadata": {},
   "outputs": [],
   "source": [
    "def create_SIR_model(infection_rate, recovery_rate, initial_infection):\n",
    "    def S_prime(params):\n",
    "        return -infection_rate * params['s'] * params['i']\n",
    "\n",
    "    def I_prime(params):\n",
    "        return infection_rate * params['s'] * params['i'] - recovery_rate * params['i']\n",
    "\n",
    "    def R_prime(params):\n",
    "        return recovery_rate * params['i']\n",
    "\n",
    "    SIR_Prime = {\n",
    "        's': S_prime,\n",
    "        'i': I_prime,\n",
    "        'r': R_prime\n",
    "    }\n",
    "\n",
    "    iC = {\n",
    "        's': 1 - initial_infection,\n",
    "        'i': initial_infection,\n",
    "        'r': 0\n",
    "    }\n",
    "\n",
    "    SIR = SystemDiffEQ(SIR_Prime, iC)\n",
    "    return SIR"
   ]
  },
  {
   "cell_type": "code",
   "execution_count": 4,
   "metadata": {},
   "outputs": [],
   "source": [
    "initial_infection = 0.1\n",
    "infection_rate = 0.2\n",
    "recovery_rate = 0.3\n",
    "t = 100"
   ]
  },
  {
   "cell_type": "code",
   "execution_count": 5,
   "metadata": {},
   "outputs": [],
   "source": [
    "SIR_Model = create_SIR_model(infection_rate, recovery_rate, initial_infection)"
   ]
  },
  {
   "cell_type": "code",
   "execution_count": 6,
   "metadata": {},
   "outputs": [],
   "source": [
    "SIR_Model.generate_value(t, dx=1)"
   ]
  },
  {
   "cell_type": "code",
   "execution_count": 7,
   "metadata": {},
   "outputs": [],
   "source": [
    "import pandas as pd\n",
    "\n",
    "solutions = pd.DataFrame(SIR_Model.f_values).T"
   ]
  },
  {
   "cell_type": "code",
   "execution_count": 8,
   "metadata": {},
   "outputs": [
    {
     "data": {
      "image/png": "[encoded data removed]",
      "text/plain": [
       "<Figure size 432x288 with 1 Axes>"
      ]
     },
     "metadata": {
      "needs_background": "light"
     },
     "output_type": "display_data"
    }
   ],
   "source": [
    "import matplotlib.pyplot as plt\n",
    "\n",
    "solutions.plot()\n",
    "plt.show()"
   ]
  },
  {
   "cell_type": "code",
   "execution_count": 9,
   "metadata": {},
   "outputs": [],
   "source": [
    "susceptible = list(zip(range(0, t+1), solutions.s))\n",
    "infected = list(zip(range(0, t+1), solutions.i))\n",
    "recovered = list(zip(range(0, t+1), solutions.r))"
   ]
  },
  {
   "cell_type": "code",
   "execution_count": 10,
   "metadata": {},
   "outputs": [],
   "source": [
    "susceptible_spline = CubicSpline(susceptible)\n",
    "infected_spline = CubicSpline(infected)\n",
    "recovered_spline = CubicSpline(recovered)"
   ]
  },
  {
   "cell_type": "code",
   "execution_count": 11,
   "metadata": {},
   "outputs": [
    {
     "name": "stdout",
     "output_type": "stream",
     "text": [
      "Fitting Successful\n"
     ]
    }
   ],
   "source": [
    "susceptible_spline.fit()\n",
    "infected_spline.fit()\n",
    "recovered_spline.fit()\n",
    "print(\"Fitting Successful\")"
   ]
  },
  {
   "cell_type": "code",
   "execution_count": 12,
   "metadata": {},
   "outputs": [],
   "source": [
    "def predict(t):\n",
    "    return {\n",
    "        'susceptible': susceptible_spline.predict(t),\n",
    "        'infected': infected_spline.predict(t),\n",
    "        'recovered': recovered_spline.predict(t)\n",
    "    }"
   ]
  },
  {
   "cell_type": "code",
   "execution_count": 13,
   "metadata": {},
   "outputs": [
    {
     "data": {
      "text/plain": [
       "{'susceptible': 0.8142401921384368,\n",
       " 'infected': 0.03666167659737475,\n",
       " 'recovered': 0.1490981312641884}"
      ]
     },
     "execution_count": 13,
     "metadata": {},
     "output_type": "execute_result"
    }
   ],
   "source": [
    "predict(7.27)"
   ]
  },
  {
   "cell_type": "code",
   "execution_count": 14,
   "metadata": {},
   "outputs": [
    {
     "data": {
      "text/plain": [
       "Polynomial(-7.745584875647429e-08x^3+1.1822200404627534e-05x^2+-0.0006108710650045035x^1+0.7836191836081274)"
      ]
     },
     "execution_count": 14,
     "metadata": {},
     "output_type": "execute_result"
    }
   ],
   "source": [
    "susceptible_spline.poly[(44,45)]"
   ]
  },
  {
   "attachments": {},
   "cell_type": "markdown",
   "metadata": {},
   "source": [
    "---"
   ]
  }
 ],
 "metadata": {
  "kernelspec": {
   "display_name": "Python 3",
   "language": "python",
   "name": "python3"
  },
  "language_info": {
   "codemirror_mode": {
    "name": "ipython",
    "version": 3
   },
   "file_extension": ".py",
   "mimetype": "text/x-python",
   "name": "python",
   "nbconvert_exporter": "python",
   "pygments_lexer": "ipython3",
   "version": "3.10.4"
  },
  "orig_nbformat": 4,
  "vscode": {
   "interpreter": {
    "hash": "a9cff5a362bc38ef45d817ae74b1af54d6a076e3d773891282bce078b815ba34"
   }
  }
 },
 "nbformat": 4,
 "nbformat_minor": 2
}
