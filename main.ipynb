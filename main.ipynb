{
 "cells": [
  {
   "cell_type": "code",
   "execution_count": 1,
   "metadata": {},
   "outputs": [],
   "source": [
    "%matplotlib inline"
   ]
  },
  {
   "cell_type": "code",
   "execution_count": 2,
   "metadata": {},
   "outputs": [],
   "source": [
    "thailand_population = 71.48e6"
   ]
  },
  {
   "cell_type": "code",
   "execution_count": 3,
   "metadata": {},
   "outputs": [],
   "source": [
    "class SystemDiffEQ():\n",
    "    def __init__(self, f_primes: dict, initial_condition: dict):\n",
    "        self.f_primes = f_primes.copy()\n",
    "        self.initial_condition = None\n",
    "        self.f_values = {}\n",
    "        self.initialize(initial_condition)\n",
    "    \n",
    "    def initialize(self, initial_condition: dict):\n",
    "        self.initial_condition = initial_condition.copy()\n",
    "        self.f_values[0] = initial_condition.copy()\n",
    "    \n",
    "    def generate_value_one_step(self, f_old, dx):\n",
    "        f_next = {}\n",
    "        for k in self.f_primes.keys():\n",
    "            f_next[k] = f_old[k] + self.f_primes[k](**f_old) * dx\n",
    "        return f_next\n",
    "\n",
    "    def generate_value(self, endpoint, starting_point=0, dx=0.01):\n",
    "        i = starting_point\n",
    "        while i < endpoint:\n",
    "            f_next = self.generate_value_one_step(self.f_values[i], dx)\n",
    "            self.f_values[i + dx] = f_next.copy()\n",
    "            i += dx\n",
    "        \n",
    "    def get(self, f, value):\n",
    "        return self.f_values[value][f]\n",
    "\n",
    "    def get_ts(self):\n",
    "        return list(self.f_values.keys())"
   ]
  },
  {
   "cell_type": "code",
   "execution_count": 4,
   "metadata": {},
   "outputs": [],
   "source": [
    "import numpy as np\n",
    "\n",
    "class Polynomial:\n",
    "    def __init__(self, coef: list):\n",
    "        self._coef = coef\n",
    "\n",
    "    @property\n",
    "    def degree(self):\n",
    "        return len(self._coef) - 1\n",
    "\n",
    "    def coef(self, deg):\n",
    "        if deg > self.degree:\n",
    "            return 0\n",
    "        return self._coef[self.degree - deg]\n",
    "\n",
    "    def diff(self):\n",
    "        diff_coef = []\n",
    "        for deg in range(1, self.degree + 1):\n",
    "            deg_coef = self.coef(deg)\n",
    "            diff_coef = [deg_coef * deg] + diff_coef\n",
    "        return Polynomial(diff_coef)\n",
    "\n",
    "    def antidiff(self, x: float, y: float):\n",
    "        int_coef = []\n",
    "        c = y\n",
    "        for deg in range(self.degree + 1):\n",
    "            deg_coef = self.coef(deg)\n",
    "            coef = deg_coef / (deg + 1)\n",
    "            int_coef = [coef] + int_coef\n",
    "            c -= coef * (x ** (deg + 1))\n",
    "        int_coef.append(c)\n",
    "        return Polynomial(int_coef)\n",
    "    \n",
    "    def integrate(self, x_lower: float, x_upper: float):\n",
    "        intf = self.antidiff(0,0)\n",
    "        return intf(x_upper) - intf(x_lower)\n",
    "\n",
    "    def __repr__(self):\n",
    "        func_str = []\n",
    "        for deg in reversed(range(self.degree + 1)):\n",
    "            if self.coef(deg) == 0:\n",
    "                continue\n",
    "            if deg == 0:\n",
    "                func_str.append(f\"{self.coef(deg)}\")\n",
    "                continue\n",
    "            func_str.append(f\"{self.coef(deg)}x^{deg}\")\n",
    "        return f\"Polynomial({'+'.join(func_str)})\"\n",
    "\n",
    "    def __call__(self, x):\n",
    "        px = 0\n",
    "        for deg in range(self.degree + 1):\n",
    "            px += self.coef(deg) * (x ** deg)\n",
    "        return px\n",
    "\n",
    "    def __add__(self, other):\n",
    "        new_coef = [0] * max(self.degree + 1, other.degree + 1)\n",
    "        for deg in range(len(new_coef)):\n",
    "            new_coef[- deg - 1] = self.coef(deg) + other.coef(deg)\n",
    "        return Polynomial(new_coef)\n",
    "\n",
    "    def __sub__(self, other):\n",
    "        new_coef = [0] * max(self.degree + 1, other.degree + 1)\n",
    "        for deg in range(len(new_coef)):\n",
    "            new_coef[-deg - 1] = self.coef(deg) - other.coef(deg)\n",
    "        return Polynomial(new_coef)\n",
    "\n",
    "    def __mul__(self, other):\n",
    "        new_coef = [0] * (self.degree + other.degree + 1)\n",
    "        for deg1 in range(self.degree + 1):\n",
    "            for deg2 in range(other.degree + 1):\n",
    "                new_coef[-deg1 - deg2 - 1] += self.coef(deg1) * other.coef(deg2)\n",
    "        return Polynomial(new_coef)\n",
    "\n",
    "    def __pow__(self, n):\n",
    "        if n == 0:\n",
    "            return Polynomial([1])\n",
    "        if n == 1:\n",
    "            return self\n",
    "        result = self\n",
    "        for i in range(n - 1):\n",
    "            result *= self\n",
    "        return result\n",
    "\n",
    "class CubicSpline:\n",
    "    def __init__(self, xy):\n",
    "        self._xy = sorted(xy, key=lambda x: x[0])\n",
    "\n",
    "    def solve_second_diff(self):\n",
    "        second_diff = [0]\n",
    "        mat = []\n",
    "        for i in range(1, len(self._xy) - 1):\n",
    "            x1, y1 = self._xy[i-1]\n",
    "            xmid, ymid = self._xy[i]\n",
    "            x2, y2 = self._xy[i+1]\n",
    "            d1 = (ymid - y1) / (xmid - x1)\n",
    "            d2 = (y2 - ymid) / (x2 - xmid)\n",
    "            second_diff.append(d2 - d1)\n",
    "        second_diff.append(0)\n",
    "        for i in range(len(self._xy)):\n",
    "            mat.append([0 for _ in range(len(self._xy))])\n",
    "            if i in [0, len(self._xy) - 1]:\n",
    "                mat[-1][i] = 1\n",
    "                continue\n",
    "            x1, y1 = self._xy[i-1]\n",
    "            xmid, ymid = self._xy[i]\n",
    "            x2, y2 = self._xy[i+1]\n",
    "            mat[-1][i-1] = (xmid - x1) / 6\n",
    "            mat[-1][i] = (x2 - x1) / 3\n",
    "            mat[-1][i+1] = (x2 - xmid) / 6\n",
    "        return np.linalg.solve(mat, second_diff)\n",
    "\n",
    "    def fit(self):\n",
    "        self.poly = {}\n",
    "        M = self.solve_second_diff()\n",
    "        for i in range(len(self._xy) - 1):\n",
    "            x0, y0 = self._xy[i]\n",
    "            x1, y1 = self._xy[i+1]\n",
    "            dds = Polynomial([(M[i+1] - M[i]) / (x1 - x0), M[i] - (M[i+1] - M[i]) / (x1 - x0) * x0])\n",
    "            s0 = dds.antidiff(0,0).antidiff(0,0)\n",
    "            c, d = np.linalg.solve([[x0, 1], [x1, 1]], [y0 - s0(x0), y1 - s0(x1)])\n",
    "            s0._coef[-2] = c\n",
    "            s0._coef[-1] = d\n",
    "            self.poly[(x0, x1)] = s0\n",
    "        return self.poly\n",
    "    \n",
    "    def _predict(self, x):\n",
    "        for (x0, x1), polynom in self.poly.items():\n",
    "            if x0 <= x and x <= x1:\n",
    "                return polynom(x)\n",
    "\n",
    "    def predict(self, x):\n",
    "        if self._xy[0][0] <= x <= self._xy[-1][0]:\n",
    "            return self._predict(x)\n",
    "        raise ValueError(f\"{x} is not feasible for the spline, it needs to be between {self._xy[0][0]} and {self._xy[-1][0]}\")"
   ]
  },
  {
   "cell_type": "code",
   "execution_count": 5,
   "metadata": {},
   "outputs": [],
   "source": [
    "def create_SIR_model(infection_rate, recovery_rate, death_rate, initial_infection):\n",
    "    def S_prime(s,i,r,d):\n",
    "        return -infection_rate * s * i\n",
    "\n",
    "    def I_prime(s,i,r,d):\n",
    "        return infection_rate * s * i - recovery_rate * i - death_rate * i\n",
    "\n",
    "    def R_prime(s,i,r,d):\n",
    "        return recovery_rate * i\n",
    "    \n",
    "    def D_prime(s,i,r,d):\n",
    "        return death_rate * i\n",
    "\n",
    "    SIR_Prime = {\n",
    "        's': S_prime,\n",
    "        'i': I_prime,\n",
    "        'r': R_prime,\n",
    "        'd': D_prime\n",
    "    }\n",
    "\n",
    "    iC = {\n",
    "        's': 1 - initial_infection,\n",
    "        'i': initial_infection,\n",
    "        'r': 0,\n",
    "        'd': 0\n",
    "    }\n",
    "\n",
    "    SIR = SystemDiffEQ(SIR_Prime, iC)\n",
    "    return SIR"
   ]
  },
  {
   "cell_type": "code",
   "execution_count": 6,
   "metadata": {},
   "outputs": [],
   "source": [
    "initial_infection = 5 / thailand_population\n",
    "infection_rate = 0.05\n",
    "recovery_rate = 0.001\n",
    "death_rate = 0.01\n",
    "t = 730"
   ]
  },
  {
   "cell_type": "code",
   "execution_count": 7,
   "metadata": {},
   "outputs": [],
   "source": [
    "SIR_Model = create_SIR_model(infection_rate, recovery_rate, death_rate, initial_infection)"
   ]
  },
  {
   "cell_type": "code",
   "execution_count": 8,
   "metadata": {},
   "outputs": [],
   "source": [
    "SIR_Model.generate_value(t, dx=1)"
   ]
  },
  {
   "cell_type": "code",
   "execution_count": 9,
   "metadata": {},
   "outputs": [],
   "source": [
    "import pandas as pd\n",
    "\n",
    "solutions = pd.DataFrame(SIR_Model.f_values).T * thailand_population"
   ]
  },
  {
   "cell_type": "code",
   "execution_count": 10,
   "metadata": {},
   "outputs": [
    {
     "data": {
      "image/png": "[encoded data removed]",
      "text/plain": [
       "<Figure size 432x288 with 1 Axes>"
      ]
     },
     "metadata": {
      "needs_background": "light"
     },
     "output_type": "display_data"
    }
   ],
   "source": [
    "import matplotlib.pyplot as plt\n",
    "\n",
    "solutions.plot()\n",
    "plt.savefig('sir.jpg', bbox_inches='tight')\n",
    "plt.show()"
   ]
  },
  {
   "cell_type": "code",
   "execution_count": 11,
   "metadata": {},
   "outputs": [],
   "source": [
    "susceptible = list(zip(range(0, t+1), solutions.s))\n",
    "infected = list(zip(range(0, t+1), solutions.i))\n",
    "recovered = list(zip(range(0, t+1), solutions.r))\n",
    "death = list(zip(range(0, t+1), solutions.d))"
   ]
  },
  {
   "cell_type": "code",
   "execution_count": 12,
   "metadata": {},
   "outputs": [],
   "source": [
    "susceptible_spline = CubicSpline(susceptible)\n",
    "infected_spline = CubicSpline(infected)\n",
    "recovered_spline = CubicSpline(recovered)"
   ]
  },
  {
   "cell_type": "code",
   "execution_count": 13,
   "metadata": {},
   "outputs": [
    {
     "name": "stdout",
     "output_type": "stream",
     "text": [
      "Fitting Successful\n"
     ]
    }
   ],
   "source": [
    "susceptible_spline.fit()\n",
    "infected_spline.fit()\n",
    "recovered_spline.fit()\n",
    "print(\"Fitting Successful\")"
   ]
  },
  {
   "cell_type": "code",
   "execution_count": 14,
   "metadata": {},
   "outputs": [],
   "source": [
    "def predict(t):\n",
    "    return {\n",
    "        'susceptible': susceptible_spline.predict(t),\n",
    "        'infected': infected_spline.predict(t),\n",
    "        'recovered': recovered_spline.predict(t)\n",
    "    }"
   ]
  },
  {
   "cell_type": "code",
   "execution_count": 15,
   "metadata": {},
   "outputs": [
    {
     "data": {
      "text/plain": [
       "962144.3514827358"
      ]
     },
     "execution_count": 15,
     "metadata": {},
     "output_type": "execute_result"
    }
   ],
   "source": [
    "susceptible[-1][-1]"
   ]
  },
  {
   "cell_type": "code",
   "execution_count": 16,
   "metadata": {},
   "outputs": [
    {
     "data": {
      "text/plain": [
       "3283168.3875150974"
      ]
     },
     "execution_count": 16,
     "metadata": {},
     "output_type": "execute_result"
    }
   ],
   "source": [
    "infected[-1][-1]"
   ]
  },
  {
   "cell_type": "code",
   "execution_count": 17,
   "metadata": {},
   "outputs": [
    {
     "data": {
      "text/plain": [
       "6112244.296454734"
      ]
     },
     "execution_count": 17,
     "metadata": {},
     "output_type": "execute_result"
    }
   ],
   "source": [
    "recovered[-1][-1]"
   ]
  },
  {
   "cell_type": "code",
   "execution_count": 18,
   "metadata": {},
   "outputs": [
    {
     "data": {
      "text/plain": [
       "61122442.96454732"
      ]
     },
     "execution_count": 18,
     "metadata": {},
     "output_type": "execute_result"
    }
   ],
   "source": [
    "death[-1][-1]"
   ]
  },
  {
   "attachments": {},
   "cell_type": "markdown",
   "metadata": {},
   "source": [
    "---"
   ]
  },
  {
   "cell_type": "code",
   "execution_count": 19,
   "metadata": {},
   "outputs": [],
   "source": [
    "from dataclasses import dataclass"
   ]
  },
  {
   "cell_type": "code",
   "execution_count": 20,
   "metadata": {},
   "outputs": [],
   "source": [
    "@dataclass\n",
    "class SIQRVParams:\n",
    "    death_rate: float\n",
    "    transmission_rate: float\n",
    "    vaccination_rate: float\n",
    "    quarantine_rate: float\n",
    "    recovery_rate: float\n",
    "    rehabilitation_rate: float"
   ]
  },
  {
   "cell_type": "code",
   "execution_count": 21,
   "metadata": {},
   "outputs": [],
   "source": [
    "def SIQRV(siqrv_params: SIQRVParams, vaccination_start, initial_infection):\n",
    "    def dS(s,i,r,q,v,d,t):\n",
    "        s0 = -siqrv_params.transmission_rate * s * i\n",
    "        if t >= vaccination_start:\n",
    "            return s0 - siqrv_params.vaccination_rate * s\n",
    "        return s0\n",
    "    \n",
    "    def dI(s,i,r,q,v,d,t):\n",
    "        return siqrv_params.transmission_rate * s * i - siqrv_params.death_rate * i - siqrv_params.quarantine_rate * i\n",
    "    \n",
    "    def dQ(s,i,r,q,v,d,t):\n",
    "        return siqrv_params.quarantine_rate * i - siqrv_params.recovery_rate * q - siqrv_params.death_rate * q\n",
    "    \n",
    "    def dR(s,i,r,q,v,d,t):\n",
    "        return siqrv_params.recovery_rate * q + siqrv_params.rehabilitation_rate * v\n",
    "    \n",
    "    def dV(s,i,r,q,v,d,t):\n",
    "        if t >= vaccination_start:\n",
    "            return siqrv_params.vaccination_rate * s - siqrv_params.rehabilitation_rate * v\n",
    "        return 0\n",
    "    \n",
    "    def dD(s,i,r,q,v,d,t):\n",
    "        return siqrv_params.death_rate * (i + q)\n",
    "    \n",
    "    diffeq = {\n",
    "        's': dS,\n",
    "        'i': dI,\n",
    "        'r': dR,\n",
    "        'q': dQ,\n",
    "        'v': dV,\n",
    "        'd': dD,\n",
    "        't': lambda s,i,r,q,v,d,t: 1\n",
    "    }\n",
    "\n",
    "    initial_conditions = {\n",
    "        's': 1 - initial_infection,\n",
    "        'i': initial_infection,\n",
    "        'r': 0,\n",
    "        'q': 0,\n",
    "        'v': 0,\n",
    "        'd': 0,\n",
    "        't': 0\n",
    "    }\n",
    "\n",
    "    return SystemDiffEQ(diffeq, initial_conditions)"
   ]
  },
  {
   "cell_type": "code",
   "execution_count": 22,
   "metadata": {},
   "outputs": [],
   "source": [
    "params = SIQRVParams(\n",
    "    death_rate=0.01,\n",
    "    transmission_rate=0.05,\n",
    "    vaccination_rate=0.008,\n",
    "    quarantine_rate=0.02,\n",
    "    recovery_rate=0.001,\n",
    "    rehabilitation_rate=0.001\n",
    ")"
   ]
  },
  {
   "cell_type": "code",
   "execution_count": 23,
   "metadata": {},
   "outputs": [],
   "source": [
    "model = SIQRV(params, 445, 5 / thailand_population)"
   ]
  },
  {
   "cell_type": "code",
   "execution_count": 24,
   "metadata": {},
   "outputs": [],
   "source": [
    "model.generate_value(730, dx=1)"
   ]
  },
  {
   "cell_type": "code",
   "execution_count": 25,
   "metadata": {},
   "outputs": [],
   "source": [
    "df = pd.DataFrame(model.f_values).T"
   ]
  },
  {
   "cell_type": "code",
   "execution_count": 26,
   "metadata": {},
   "outputs": [],
   "source": [
    "df2 = df.copy()\n",
    "df[df < 1 / thailand_population] = 1 / thailand_population"
   ]
  },
  {
   "cell_type": "code",
   "execution_count": 27,
   "metadata": {},
   "outputs": [
    {
     "data": {
      "image/png": "[encoded data removed]",
      "text/plain": [
       "<Figure size 432x288 with 1 Axes>"
      ]
     },
     "metadata": {
      "needs_background": "light"
     },
     "output_type": "display_data"
    }
   ],
   "source": [
    "(df.drop('t', axis=1) * thailand_population).plot()\n",
    "plt.yscale('log')\n",
    "plt.savefig('siqrv.jpg', bbox_inches='tight')"
   ]
  },
  {
   "cell_type": "code",
   "execution_count": 28,
   "metadata": {},
   "outputs": [
    {
     "data": {
      "text/plain": [
       "s    7.191443e+06\n",
       "i    1.676332e+03\n",
       "r    1.106970e+07\n",
       "q    2.728977e+04\n",
       "v    5.292030e+07\n",
       "d    2.695901e+05\n",
       "Name: 730, dtype: float64"
      ]
     },
     "execution_count": 28,
     "metadata": {},
     "output_type": "execute_result"
    }
   ],
   "source": [
    "df.loc[730].drop('t') * 71.48e6"
   ]
  },
  {
   "cell_type": "code",
   "execution_count": 29,
   "metadata": {},
   "outputs": [
    {
     "data": {
      "text/html": [
       "<div>\n",
       "<style scoped>\n",
       "    .dataframe tbody tr th:only-of-type {\n",
       "        vertical-align: middle;\n",
       "    }\n",
       "\n",
       "    .dataframe tbody tr th {\n",
       "        vertical-align: top;\n",
       "    }\n",
       "\n",
       "    .dataframe thead th {\n",
       "        text-align: right;\n",
       "    }\n",
       "</style>\n",
       "<table border=\"1\" class=\"dataframe\">\n",
       "  <thead>\n",
       "    <tr style=\"text-align: right;\">\n",
       "      <th></th>\n",
       "      <th>s</th>\n",
       "      <th>i</th>\n",
       "      <th>r</th>\n",
       "      <th>q</th>\n",
       "      <th>v</th>\n",
       "      <th>d</th>\n",
       "      <th>t</th>\n",
       "    </tr>\n",
       "  </thead>\n",
       "  <tbody>\n",
       "    <tr>\n",
       "      <th>0</th>\n",
       "      <td>1.000000</td>\n",
       "      <td>6.994964e-08</td>\n",
       "      <td>1.398993e-08</td>\n",
       "      <td>1.398993e-08</td>\n",
       "      <td>1.398993e-08</td>\n",
       "      <td>1.398993e-08</td>\n",
       "      <td>1.398993e-08</td>\n",
       "    </tr>\n",
       "    <tr>\n",
       "      <th>1</th>\n",
       "      <td>1.000000</td>\n",
       "      <td>7.134863e-08</td>\n",
       "      <td>1.398993e-08</td>\n",
       "      <td>1.398993e-08</td>\n",
       "      <td>1.398993e-08</td>\n",
       "      <td>1.398993e-08</td>\n",
       "      <td>1.000000e+00</td>\n",
       "    </tr>\n",
       "    <tr>\n",
       "      <th>2</th>\n",
       "      <td>1.000000</td>\n",
       "      <td>7.277560e-08</td>\n",
       "      <td>1.398993e-08</td>\n",
       "      <td>1.398993e-08</td>\n",
       "      <td>1.398993e-08</td>\n",
       "      <td>1.398993e-08</td>\n",
       "      <td>2.000000e+00</td>\n",
       "    </tr>\n",
       "    <tr>\n",
       "      <th>3</th>\n",
       "      <td>1.000000</td>\n",
       "      <td>7.423111e-08</td>\n",
       "      <td>1.398993e-08</td>\n",
       "      <td>1.398993e-08</td>\n",
       "      <td>1.398993e-08</td>\n",
       "      <td>1.398993e-08</td>\n",
       "      <td>3.000000e+00</td>\n",
       "    </tr>\n",
       "    <tr>\n",
       "      <th>4</th>\n",
       "      <td>1.000000</td>\n",
       "      <td>7.571573e-08</td>\n",
       "      <td>1.398993e-08</td>\n",
       "      <td>1.398993e-08</td>\n",
       "      <td>1.398993e-08</td>\n",
       "      <td>1.398993e-08</td>\n",
       "      <td>4.000000e+00</td>\n",
       "    </tr>\n",
       "    <tr>\n",
       "      <th>...</th>\n",
       "      <td>...</td>\n",
       "      <td>...</td>\n",
       "      <td>...</td>\n",
       "      <td>...</td>\n",
       "      <td>...</td>\n",
       "      <td>...</td>\n",
       "      <td>...</td>\n",
       "    </tr>\n",
       "    <tr>\n",
       "      <th>726</th>\n",
       "      <td>0.103893</td>\n",
       "      <td>2.593706e-05</td>\n",
       "      <td>1.519021e-01</td>\n",
       "      <td>3.969982e-04</td>\n",
       "      <td>7.400269e-01</td>\n",
       "      <td>3.754896e-03</td>\n",
       "      <td>7.260000e+02</td>\n",
       "    </tr>\n",
       "    <tr>\n",
       "      <th>727</th>\n",
       "      <td>0.103062</td>\n",
       "      <td>2.529369e-05</td>\n",
       "      <td>1.526425e-01</td>\n",
       "      <td>3.931500e-04</td>\n",
       "      <td>7.401180e-01</td>\n",
       "      <td>3.759125e-03</td>\n",
       "      <td>7.270000e+02</td>\n",
       "    </tr>\n",
       "    <tr>\n",
       "      <th>728</th>\n",
       "      <td>0.102237</td>\n",
       "      <td>2.466522e-05</td>\n",
       "      <td>1.533830e-01</td>\n",
       "      <td>3.893312e-04</td>\n",
       "      <td>7.402024e-01</td>\n",
       "      <td>3.763310e-03</td>\n",
       "      <td>7.280000e+02</td>\n",
       "    </tr>\n",
       "    <tr>\n",
       "      <th>729</th>\n",
       "      <td>0.101419</td>\n",
       "      <td>2.405135e-05</td>\n",
       "      <td>1.541236e-01</td>\n",
       "      <td>3.855419e-04</td>\n",
       "      <td>7.402801e-01</td>\n",
       "      <td>3.767450e-03</td>\n",
       "      <td>7.290000e+02</td>\n",
       "    </tr>\n",
       "    <tr>\n",
       "      <th>730</th>\n",
       "      <td>0.100608</td>\n",
       "      <td>2.345177e-05</td>\n",
       "      <td>1.548643e-01</td>\n",
       "      <td>3.817819e-04</td>\n",
       "      <td>7.403512e-01</td>\n",
       "      <td>3.771546e-03</td>\n",
       "      <td>7.300000e+02</td>\n",
       "    </tr>\n",
       "  </tbody>\n",
       "</table>\n",
       "<p>731 rows × 7 columns</p>\n",
       "</div>"
      ],
      "text/plain": [
       "            s             i             r             q             v  \\\n",
       "0    1.000000  6.994964e-08  1.398993e-08  1.398993e-08  1.398993e-08   \n",
       "1    1.000000  7.134863e-08  1.398993e-08  1.398993e-08  1.398993e-08   \n",
       "2    1.000000  7.277560e-08  1.398993e-08  1.398993e-08  1.398993e-08   \n",
       "3    1.000000  7.423111e-08  1.398993e-08  1.398993e-08  1.398993e-08   \n",
       "4    1.000000  7.571573e-08  1.398993e-08  1.398993e-08  1.398993e-08   \n",
       "..        ...           ...           ...           ...           ...   \n",
       "726  0.103893  2.593706e-05  1.519021e-01  3.969982e-04  7.400269e-01   \n",
       "727  0.103062  2.529369e-05  1.526425e-01  3.931500e-04  7.401180e-01   \n",
       "728  0.102237  2.466522e-05  1.533830e-01  3.893312e-04  7.402024e-01   \n",
       "729  0.101419  2.405135e-05  1.541236e-01  3.855419e-04  7.402801e-01   \n",
       "730  0.100608  2.345177e-05  1.548643e-01  3.817819e-04  7.403512e-01   \n",
       "\n",
       "                d             t  \n",
       "0    1.398993e-08  1.398993e-08  \n",
       "1    1.398993e-08  1.000000e+00  \n",
       "2    1.398993e-08  2.000000e+00  \n",
       "3    1.398993e-08  3.000000e+00  \n",
       "4    1.398993e-08  4.000000e+00  \n",
       "..            ...           ...  \n",
       "726  3.754896e-03  7.260000e+02  \n",
       "727  3.759125e-03  7.270000e+02  \n",
       "728  3.763310e-03  7.280000e+02  \n",
       "729  3.767450e-03  7.290000e+02  \n",
       "730  3.771546e-03  7.300000e+02  \n",
       "\n",
       "[731 rows x 7 columns]"
      ]
     },
     "execution_count": 29,
     "metadata": {},
     "output_type": "execute_result"
    }
   ],
   "source": [
    "df"
   ]
  },
  {
   "cell_type": "code",
   "execution_count": 30,
   "metadata": {},
   "outputs": [
    {
     "data": {
      "text/plain": [
       "{'s': 7191443,\n",
       " 'i': 1676,\n",
       " 'r': 11069698,\n",
       " 'q': 27289,\n",
       " 'v': 52920301,\n",
       " 'd': 269590}"
      ]
     },
     "execution_count": 30,
     "metadata": {},
     "output_type": "execute_result"
    }
   ],
   "source": [
    "(df.loc[730].drop('t') * thailand_population).astype(np.int32).to_dict()"
   ]
  },
  {
   "cell_type": "code",
   "execution_count": 31,
   "metadata": {},
   "outputs": [],
   "source": [
    "s_spline = CubicSpline(list(zip(df['t'], df['s']*thailand_population)))\n",
    "i_spline = CubicSpline(list(zip(df['t'], df['i']*thailand_population)))\n",
    "r_spline = CubicSpline(list(zip(df['t'], df['r']*thailand_population)))\n",
    "q_spline = CubicSpline(list(zip(df['t'], df['q']*thailand_population)))\n",
    "v_spline = CubicSpline(list(zip(df['t'], df['v']*thailand_population)))\n",
    "d_spline = CubicSpline(list(zip(df['t'], df['d']*thailand_population)))"
   ]
  },
  {
   "cell_type": "code",
   "execution_count": 32,
   "metadata": {},
   "outputs": [
    {
     "name": "stdout",
     "output_type": "stream",
     "text": [
      "fit\n"
     ]
    }
   ],
   "source": [
    "s_spline.fit()\n",
    "i_spline.fit()\n",
    "r_spline.fit()\n",
    "q_spline.fit()\n",
    "v_spline.fit()\n",
    "d_spline.fit()\n",
    "print(\"fit\")"
   ]
  },
  {
   "cell_type": "code",
   "execution_count": 33,
   "metadata": {},
   "outputs": [
    {
     "data": {
      "image/png": "[encoded data removed]",
      "text/plain": [
       "<Figure size 432x288 with 3 Axes>"
      ]
     },
     "metadata": {
      "needs_background": "light"
     },
     "output_type": "display_data"
    }
   ],
   "source": [
    "fig, ax = plt.subplots(3, 1)\n",
    "ax[0].plot([i.coef(1) for i in list(infected_spline.poly.values())[:-10]])\n",
    "ax[1].plot([i.coef(2) for i in list(infected_spline.poly.values())[:-10]])\n",
    "ax[2].plot([i.coef(3) for i in list(infected_spline.poly.values())[:-10]])\n",
    "plt.savefig('infected_coef.jpg', bbox_inches='tight')\n"
   ]
  },
  {
   "cell_type": "code",
   "execution_count": 34,
   "metadata": {},
   "outputs": [
    {
     "data": {
      "text/plain": [
       "8260567.412846893"
      ]
     },
     "execution_count": 34,
     "metadata": {},
     "output_type": "execute_result"
    }
   ],
   "source": [
    "infected_spline.predict(1.04*365)"
   ]
  },
  {
   "cell_type": "code",
   "execution_count": 35,
   "metadata": {},
   "outputs": [
    {
     "data": {
      "text/plain": [
       "379.6"
      ]
     },
     "execution_count": 35,
     "metadata": {},
     "output_type": "execute_result"
    }
   ],
   "source": [
    "1.04*365"
   ]
  },
  {
   "cell_type": "code",
   "execution_count": 36,
   "metadata": {},
   "outputs": [
    {
     "data": {
      "image/png": "[encoded data removed]",
      "text/plain": [
       "<Figure size 432x288 with 3 Axes>"
      ]
     },
     "metadata": {
      "needs_background": "light"
     },
     "output_type": "display_data"
    }
   ],
   "source": [
    "fig, ax = plt.subplots(3, 1)\n",
    "ax[0].plot([i.coef(1) for i in list(i_spline.poly.values())[:-10]])\n",
    "ax[1].plot([i.coef(2) for i in list(i_spline.poly.values())[:-10]])\n",
    "ax[2].plot([i.coef(3) for i in list(i_spline.poly.values())[:-10]])\n",
    "plt.savefig('infected_coef_siqrv.jpg', bbox_inches='tight')"
   ]
  },
  {
   "cell_type": "code",
   "execution_count": 37,
   "metadata": {},
   "outputs": [
    {
     "data": {
      "text/plain": [
       "9188.697970008245"
      ]
     },
     "execution_count": 37,
     "metadata": {},
     "output_type": "execute_result"
    }
   ],
   "source": [
    "i_spline.predict(365*1.04)"
   ]
  }
 ],
 "metadata": {
  "kernelspec": {
   "display_name": "Python 3",
   "language": "python",
   "name": "python3"
  },
  "language_info": {
   "codemirror_mode": {
    "name": "ipython",
    "version": 3
   },
   "file_extension": ".py",
   "mimetype": "text/x-python",
   "name": "python",
   "nbconvert_exporter": "python",
   "pygments_lexer": "ipython3",
   "version": "3.10.4"
  },
  "orig_nbformat": 4,
  "vscode": {
   "interpreter": {
    "hash": "a9cff5a362bc38ef45d817ae74b1af54d6a076e3d773891282bce078b815ba34"
   }
  }
 },
 "nbformat": 4,
 "nbformat_minor": 2
}
